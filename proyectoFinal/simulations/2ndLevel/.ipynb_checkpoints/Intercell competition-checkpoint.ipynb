{
 "cells": [
  {
   "cell_type": "code",
   "execution_count": 2,
   "metadata": {},
   "outputs": [],
   "source": [
    "import numpy as np \n",
    "import matplotlib.pyplot as plt \n"
   ]
  },
  {
   "cell_type": "markdown",
   "metadata": {},
   "source": [
    "### Global parameters"
   ]
  },
  {
   "cell_type": "code",
   "execution_count": 19,
   "metadata": {},
   "outputs": [],
   "source": [
    "h  = 2\n",
    "gamma = 1.0/30\n",
    "beta = 1.0/10\n",
    "#normal rate of growth, about onces every 20 mins\n",
    "phi = 1.0/20.0\n",
    "# penalty for having plasmids, small number, eyeballed\n",
    "c = 0.1\n",
    "# eyeballed parameter, kill them every 30 mins\n",
    "gammaB = 1/30\n"
   ]
  },
  {
   "cell_type": "markdown",
   "metadata": {},
   "source": [
    "### Equations"
   ]
  },
  {
   "cell_type": "markdown",
   "metadata": {},
   "source": [
    "#### Plasmids"
   ]
  },
  {
   "cell_type": "markdown",
   "metadata": {},
   "source": [
    "We'll keep the equations for plasmids"
   ]
  },
  {
   "cell_type": "code",
   "execution_count": 3,
   "metadata": {},
   "outputs": [],
   "source": [
    "def alpha(n1,n2,ki):\n",
    "    return beta/(1+((n1+n2)/ki)**h)\n",
    "def nplus(n1,n2,ki):\n",
    "    return n1*alpha(n1,n2,ki)\n",
    "def nminus(n1,n2,ki):\n",
    "    return n1*gamma"
   ]
  },
  {
   "cell_type": "markdown",
   "metadata": {},
   "source": [
    "#### Bacteria"
   ]
  },
  {
   "cell_type": "markdown",
   "metadata": {},
   "source": [
    "Well define the behaviour of bacteria in the following way:\n",
    "\n",
    "$$\\dot{B_i} = r_i(n_i) - \\gamma_B \\sum_i B_i$$\n",
    "\n",
    "$$r_i(n_i) = \\Phi(1-c\\cdot n_i)$$"
   ]
  },
  {
   "cell_type": "code",
   "execution_count": 8,
   "metadata": {},
   "outputs": [],
   "source": [
    "def r(ni):\n",
    "    return phi*(1-c*ni)\n",
    "def bplus(ni):\n",
    "    return r(ni)\n",
    "def bminus(b1,b2):\n",
    "    return gammaB*(b1+b2)"
   ]
  },
  {
   "cell_type": "code",
   "execution_count": null,
   "metadata": {},
   "outputs": [],
   "source": []
  }
 ],
 "metadata": {
  "kernelspec": {
   "display_name": "Python 3",
   "language": "python",
   "name": "python3"
  },
  "language_info": {
   "codemirror_mode": {
    "name": "ipython",
    "version": 3
   },
   "file_extension": ".py",
   "mimetype": "text/x-python",
   "name": "python",
   "nbconvert_exporter": "python",
   "pygments_lexer": "ipython3",
   "version": "3.6.4"
  }
 },
 "nbformat": 4,
 "nbformat_minor": 2
}

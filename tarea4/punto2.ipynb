{
 "cells": [
  {
   "cell_type": "code",
   "execution_count": 71,
   "metadata": {},
   "outputs": [],
   "source": [
    "import numpy as np\n",
    "import matplotlib.pyplot as plt\n",
    "import inspect\n",
    "import datetime\n",
    "import timeit"
   ]
  },
  {
   "cell_type": "code",
   "execution_count": 9,
   "metadata": {},
   "outputs": [],
   "source": [
    "gr = 1/5\n",
    "gp = 1/30\n",
    "kr=1\n",
    "kp=gp*1e4/5\n"
   ]
  },
  {
   "cell_type": "code",
   "execution_count": 10,
   "metadata": {},
   "outputs": [],
   "source": [
    "#probabilidades\n",
    "def pcr(r,p):\n",
    "    return kr\n",
    "def pdr(r,p):\n",
    "    return gr*r\n",
    "def pcp(r,p):\n",
    "    return kp*r\n",
    "def pdp(r,p):\n",
    "    return gp*p"
   ]
  },
  {
   "cell_type": "code",
   "execution_count": 60,
   "metadata": {},
   "outputs": [],
   "source": [
    "#acciones\n",
    "def acr(r,p):\n",
    "    r.append(r[-1]+1)\n",
    "    p.append(p[-1])\n",
    "def adr(r,p):\n",
    "    r.append(r[-1]-1)\n",
    "    p.append(p[-1])\n",
    "def acp(r,p):\n",
    "    p.append(p[-1]+1)\n",
    "    r.append(r[-1])\n",
    "def adp(r,p):\n",
    "    p.append(p[-1]-1)\n",
    "    r.append(r[-1])\n",
    "    \n",
    "actions = [acr,adr,acp,adp]"
   ]
  },
  {
   "cell_type": "code",
   "execution_count": 61,
   "metadata": {},
   "outputs": [],
   "source": [
    "#time to next event\n",
    "def tau(events,rand):\n",
    "    return 1/(sum(events)) * np.log(1/rand)"
   ]
  },
  {
   "cell_type": "code",
   "execution_count": 69,
   "metadata": {},
   "outputs": [],
   "source": [
    "def singleCell(globalStatus):\n",
    "    r=[0]\n",
    "    p=[0]\n",
    "    t=[0]\n",
    "    while(t[-1]<10/gp):\n",
    "        print(\"\\r\" + \"Global status: {:.2f}% Cell status: {:.2f}%\".format(globalStatus,t[-1]*gp*10),end=\"\") \n",
    "        events = [pcr(r[-1],p[-1]),pdr(r[-1],p[-1]),pcp(r[-1],p[-1]),pdp(r[-1],p[-1])]\n",
    "        eventProbs = np.array(events)/sum(events)\n",
    "        dt = tau(events,np.random.random())\n",
    "        action = np.random.choice(actions,1,p=eventProbs)[0]\n",
    "        action(r,p)\n",
    "        t.append(t[-1]+dt)\n",
    "    return t,r,p"
   ]
  },
  {
   "cell_type": "code",
   "execution_count": 70,
   "metadata": {},
   "outputs": [
    {
     "name": "stdout",
     "output_type": "stream",
     "text": [
      "Global status: 100.00% Cell status: 100.00%"
     ]
    }
   ],
   "source": [
    "t,r,p = singleCell(100)"
   ]
  },
  {
   "cell_type": "code",
   "execution_count": null,
   "metadata": {},
   "outputs": [
    {
     "name": "stdout",
     "output_type": "stream",
     "text": [
      "Global status: 14.00% Cell status: 56.00%"
     ]
    },
    {
     "name": "stderr",
     "output_type": "stream",
     "text": [
      "IOPub data rate exceeded.\n",
      "The notebook server will temporarily stop sending output\n",
      "to the client in order to avoid crashing it.\n",
      "To change this limit, set the config variable\n",
      "`--NotebookApp.iopub_data_rate_limit`.\n",
      "\n",
      "Current values:\n",
      "NotebookApp.iopub_data_rate_limit=1000000.0 (bytes/sec)\n",
      "NotebookApp.rate_limit_window=3.0 (secs)\n",
      "\n"
     ]
    },
    {
     "name": "stdout",
     "output_type": "stream",
     "text": [
      "Global status: 22.10% Cell status: 87.34%"
     ]
    }
   ],
   "source": [
    "ts=[]\n",
    "rs=[]\n",
    "ps=[]\n",
    "totalCells=1000\n",
    "start = timeit.default_timer()\n",
    "for i in range(totalCells):\n",
    "    t,r,p = singleCell(100*(i+1)/totalCells)\n",
    "    ts.append(t)\n",
    "    rs.append(r)\n",
    "    ps.append(p)\n",
    "stop = timeit.default_timer()\n",
    "print('')\n",
    "print('-'[0]*20)\n",
    "print('Time: ', stop - start)  "
   ]
  },
  {
   "cell_type": "code",
   "execution_count": null,
   "metadata": {},
   "outputs": [],
   "source": []
  }
 ],
 "metadata": {
  "kernelspec": {
   "display_name": "Python 3",
   "language": "python",
   "name": "python3"
  },
  "language_info": {
   "codemirror_mode": {
    "name": "ipython",
    "version": 3
   },
   "file_extension": ".py",
   "mimetype": "text/x-python",
   "name": "python",
   "nbconvert_exporter": "python",
   "pygments_lexer": "ipython3",
   "version": "3.6.4"
  }
 },
 "nbformat": 4,
 "nbformat_minor": 2
}
